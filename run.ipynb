{
 "cells": [
  {
   "cell_type": "code",
   "execution_count": 49,
   "id": "a5745d9f-9cd1-4d34-ba99-194089c2bd47",
   "metadata": {},
   "outputs": [],
   "source": [
    "import os\n",
    "import sys\n",
    "import time\n",
    "import datetime\n",
    "\n",
    "import pandas as pd\n",
    "import numpy as np\n",
    "\n",
    "import xlsxwriter\n",
    "import sqlite3"
   ]
  },
  {
   "cell_type": "code",
   "execution_count": 50,
   "id": "d0b59d47-45f9-4256-a57a-a76203b6edac",
   "metadata": {},
   "outputs": [],
   "source": [
    "current_dir = os.getcwd()\n",
    "data_dir = os.path.join(current_dir,\"data\")\n",
    "result_dir = os.path.join(current_dir,\"result\")\n"
   ]
  },
  {
   "cell_type": "code",
   "execution_count": 51,
   "id": "a04b0582",
   "metadata": {},
   "outputs": [],
   "source": [
    "database_name = \"test_db_sqlite.db\"\n",
    "cusip_list_name = \"cusip_note_list.csv\""
   ]
  },
  {
   "cell_type": "code",
   "execution_count": 52,
   "id": "576c725c",
   "metadata": {},
   "outputs": [],
   "source": [
    "# database_name = \"test_db_sqlite.db\"\n",
    "# cusip_list_name = \"test_list.csv\""
   ]
  },
  {
   "cell_type": "code",
   "execution_count": 53,
   "id": "c6378bd8-1822-43db-a8f0-5b44f9f5b411",
   "metadata": {},
   "outputs": [],
   "source": [
    "# con = sqlite3.connect(database_name)\n",
    "# cur = con.cursor()"
   ]
  },
  {
   "cell_type": "code",
   "execution_count": 54,
   "id": "df251753-7756-4f5c-8f0e-205b0b171eb6",
   "metadata": {},
   "outputs": [],
   "source": [
    "cusip_file = pd.read_csv(os.path.join(current_dir, cusip_list_name))\n",
    "cusip_list = cusip_file.iloc[:,0].tolist()"
   ]
  },
  {
   "cell_type": "code",
   "execution_count": 55,
   "id": "aada8572-1402-4b3e-8e6b-b7e1ea0c54e7",
   "metadata": {},
   "outputs": [],
   "source": [
    "def download_write_excel(str_cusip):\n",
    "\n",
    "    bbg_query = '=@BDH(B4,$B$5:$C$5,$B$1,$B$2,\"Dir=V\",\"CDR=5D\",\"Days=A\",\"QuoteType=P\",\"Dts=S\")'\n",
    "    workbook = xlsxwriter.Workbook(os.path.join(data_dir, f\"{str_cusip}_1.xlsx\"))\n",
    "    worksheet = workbook.add_worksheet()\n",
    "\n",
    "    row, col = 0, 0\n",
    "\n",
    "    worksheet.write(row, col, \"StartDate\")\n",
    "    worksheet.write(row+1, col, \"EndDate\")\n",
    "    \n",
    "    worksheet.write(row, col+1, \"1/1/2004\")\n",
    "    worksheet.write(row+1, col+1, \"12/31/2013\")\n",
    "\n",
    "    worksheet.write(row+3, col+1, f\"{str_cusip} Corp\")\n",
    "\n",
    "    worksheet.write(row+4, col, \"Date\")\n",
    "    worksheet.write(row+4, col+1, \"PX_CLEAN_MID\")\n",
    "    worksheet.write(row+4, col+2, \"YLD_YTM_MID\")\n",
    "\n",
    "    worksheet.write(row+5, col, bbg_query)\n",
    "\n",
    "    time.sleep(1)\n",
    "\n",
    "    workbook.close()\n",
    "    print(f\"{str_cusip} period 1 completed\")\n",
    "\n",
    "\n",
    "    workbook = xlsxwriter.Workbook(os.path.join(data_dir, f\"{str_cusip}_2.xlsx\"))\n",
    "    worksheet = workbook.add_worksheet()\n",
    "\n",
    "    row, col = 0, 0\n",
    "\n",
    "    worksheet.write(row, col, \"StartDate\")\n",
    "    worksheet.write(row+1, col, \"EndDate\")\n",
    "    \n",
    "    worksheet.write(row, col+1, \"1/1/2014\")\n",
    "    worksheet.write(row+1, col+1, \"12/31/2023\")\n",
    "\n",
    "    worksheet.write(row+3, col+1, f\"{str_cusip} Corp\")\n",
    "\n",
    "    worksheet.write(row+4, col, \"Date\")\n",
    "    worksheet.write(row+4, col+1, \"PX_CLEAN_MID\")\n",
    "    worksheet.write(row+4, col+2, \"YLD_YTM_MID\")\n",
    "\n",
    "    worksheet.write(row+5, col, bbg_query)\n",
    "\n",
    "    time.sleep(1)\n",
    "\n",
    "    workbook.close()\n",
    "    print(f\"{str_cusip} period 2 completed\")\n",
    "    return 0                       "
   ]
  },
  {
   "cell_type": "code",
   "execution_count": 47,
   "id": "bd2fe302",
   "metadata": {},
   "outputs": [],
   "source": [
    "def execute_copy(str_cusip):\n",
    "    current_time = datetime.datetime.now()\n",
    "\n",
    "    data= pd.read_excel(os.path.join(data_dir, f\"{str_cusip}_1.xlsx\"), skiprows=4)\n",
    "    bbg = data.copy(deep=False)\n",
    "\n",
    "    bbg.loc[:,'cusip'] = str_cusip\n",
    "    bbg.loc[:,'created_at'] = current_time.strftime(\"%Y-%m-%d %H:%M:%S\")\n",
    "    bbg.loc[:,'modified_at'] = current_time.strftime(\"%Y-%m-%d %H:%M:%S\")\n",
    "\n",
    "    bbg.rename({'Date':'dates','PX_CLEAN_MID':'clean_mid', 'YLD_YTM_MID':'ytm_mid'})    \n",
    "\n",
    "    bbg.to_csv(os.path.join(result_dir,f\"{str_cusip}_1.csv\"))\n",
    "    \n",
    "    print(f\"completed {str_cusip}_1\")\n",
    "\n",
    "\n",
    "    data2= pd.read_excel(os.path.join(data_dir, f\"{str_cusip}_2.xlsx\"), skiprows=4)\n",
    "    bbg2 = data2.copy(deep=False)\n",
    "\n",
    "    bbg2.loc[:,'cusip'] = str_cusip\n",
    "    bbg2.loc[:,'created_at'] = current_time.strftime(\"%Y-%m-%d %H:%M:%S\")\n",
    "    bbg2.loc[:,'modified_at'] = current_time.strftime(\"%Y-%m-%d %H:%M:%S\")\n",
    "\n",
    "    bbg.rename({'Date':'dates','PX_CLEAN_MID':'clean_mid', 'YLD_YTM_MID':'ytm_mid'})    \n",
    "\n",
    "    bbg.to_csv(os.path.join(result_dir,f\"{str_cusip}_2.csv\"))\n",
    "\n",
    "    print(f\"completed {str_cusip}_2\")\n",
    "    return 0\n"
   ]
  },
  {
   "cell_type": "code",
   "execution_count": 101,
   "id": "4749d479",
   "metadata": {},
   "outputs": [],
   "source": [
    "def _log(str_cusip):\n",
    "    log_csv = pd.read_csv(os.path.join(current_dir, \"log.csv\"))\n",
    "    _log_csv = log_csv.copy(deep=True)\n",
    "    _log_csv.loc[len(_log_csv)] = {\"completed\" : str_cusip}\n",
    "    _log_csv.to_csv(os.path.join(current_dir, \"log.csv\"))\n",
    "    print(f\"logging for {str_cusip} completed\")\n",
    "    return 0"
   ]
  },
  {
   "cell_type": "code",
   "execution_count": 103,
   "id": "03074d66",
   "metadata": {},
   "outputs": [
    {
     "name": "stdout",
     "output_type": "stream",
     "text": [
      "000361AK1 period 1 completed\n",
      "000361AK1 period 2 completed\n",
      "completed000361AK1\n",
      "logging for 000361AK1 completed\n",
      "000361AM7 period 1 completed\n",
      "000361AM7 period 2 completed\n",
      "completed000361AM7\n",
      "logging for 000361AM7 completed\n",
      "000361AQ8 period 1 completed\n",
      "000361AQ8 period 2 completed\n",
      "completed000361AQ8\n",
      "logging for 000361AQ8 completed\n",
      "00037BAA0 period 1 completed\n",
      "00037BAA0 period 2 completed\n",
      "completed00037BAA0\n",
      "logging for 00037BAA0 completed\n"
     ]
    }
   ],
   "source": [
    "def main(cusip_list):\n",
    "    for cusip in cusip_list:\n",
    "        download_write_excel(cusip)\n",
    "        execute_copy(cusip)\n",
    "        _log(cusip)"
   ]
  },
  {
   "cell_type": "code",
   "execution_count": null,
   "id": "f8c068a2",
   "metadata": {},
   "outputs": [],
   "source": []
  }
 ],
 "metadata": {
  "kernelspec": {
   "display_name": "Python 3 (ipykernel)",
   "language": "python",
   "name": "python3"
  },
  "language_info": {
   "codemirror_mode": {
    "name": "ipython",
    "version": 3
   },
   "file_extension": ".py",
   "mimetype": "text/x-python",
   "name": "python",
   "nbconvert_exporter": "python",
   "pygments_lexer": "ipython3",
   "version": "3.8.18"
  }
 },
 "nbformat": 4,
 "nbformat_minor": 5
}
