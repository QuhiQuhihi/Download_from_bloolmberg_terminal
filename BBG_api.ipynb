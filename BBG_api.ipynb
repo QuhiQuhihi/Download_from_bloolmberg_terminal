{
 "cells": [
  {
   "cell_type": "code",
   "execution_count": null,
   "id": "95b774d9",
   "metadata": {},
   "outputs": [],
   "source": [
    "import os\n",
    "import sys\n",
    "import time\n",
    "import datetime\n",
    "\n",
    "import pandas as pd\n",
    "import numpy as np"
   ]
  },
  {
   "cell_type": "code",
   "execution_count": 2,
   "id": "d434729d",
   "metadata": {},
   "outputs": [
    {
     "name": "stdout",
     "output_type": "stream",
     "text": [
      "Looking in indexes: https://bcms.bloomberg.com/pip/simple\n",
      "Collecting blpapi\n",
      "  Downloading https://bcms.bloomberg.com/pip/simple/blpapi/blpapi-3.23.1-cp39-cp39-win_amd64.whl (4.6 MB)\n",
      "Installing collected packages: blpapi\n",
      "Successfully installed blpapi-3.23.1\n",
      "Collecting ruamel.yaml\n",
      "  Downloading ruamel.yaml-0.18.6-py3-none-any.whl (117 kB)\n",
      "Collecting ruamel.yaml.clib>=0.2.7\n",
      "  Downloading ruamel.yaml.clib-0.2.8-cp39-cp39-win_amd64.whl (118 kB)\n",
      "Installing collected packages: ruamel.yaml.clib, ruamel.yaml\n",
      "Successfully installed ruamel.yaml-0.18.6 ruamel.yaml.clib-0.2.8\n",
      "Collecting xbbg\n",
      "  Downloading xbbg-0.7.7-py3-none-any.whl (52 kB)\n",
      "Requirement already satisfied: pandas>=1.0.0 in c:\\programdata\\anaconda3\\lib\\site-packages (from xbbg) (1.3.4)\n",
      "Requirement already satisfied: pytest in c:\\programdata\\anaconda3\\lib\\site-packages (from xbbg) (6.2.4)\n",
      "Requirement already satisfied: ruamel.yaml>=0.15.0 in c:\\programdata\\anaconda3\\lib\\site-packages (from xbbg) (0.18.6)\n",
      "Requirement already satisfied: pytz>=2020.4 in c:\\programdata\\anaconda3\\lib\\site-packages (from xbbg) (2021.3)\n",
      "Requirement already satisfied: numpy>=1.15.0 in c:\\programdata\\anaconda3\\lib\\site-packages (from xbbg) (1.20.3)\n",
      "Collecting pyarrow>=1.0.1\n",
      "  Downloading pyarrow-15.0.0-cp39-cp39-win_amd64.whl (24.9 MB)\n",
      "Requirement already satisfied: python-dateutil>=2.7.3 in c:\\programdata\\anaconda3\\lib\\site-packages (from pandas>=1.0.0->xbbg) (2.8.2)\n",
      "Requirement already satisfied: six>=1.5 in c:\\programdata\\anaconda3\\lib\\site-packages (from python-dateutil>=2.7.3->pandas>=1.0.0->xbbg) (1.16.0)\n",
      "Requirement already satisfied: ruamel.yaml.clib>=0.2.7 in c:\\programdata\\anaconda3\\lib\\site-packages (from ruamel.yaml>=0.15.0->xbbg) (0.2.8)\n",
      "Requirement already satisfied: attrs>=19.2.0 in c:\\programdata\\anaconda3\\lib\\site-packages (from pytest->xbbg) (21.2.0)\n",
      "Requirement already satisfied: iniconfig in c:\\programdata\\anaconda3\\lib\\site-packages (from pytest->xbbg) (1.1.1)\n",
      "Requirement already satisfied: packaging in c:\\programdata\\anaconda3\\lib\\site-packages (from pytest->xbbg) (21.0)\n",
      "Requirement already satisfied: pluggy<1.0.0a1,>=0.12 in c:\\programdata\\anaconda3\\lib\\site-packages (from pytest->xbbg) (0.13.1)\n",
      "Requirement already satisfied: py>=1.8.2 in c:\\programdata\\anaconda3\\lib\\site-packages (from pytest->xbbg) (1.10.0)\n",
      "Requirement already satisfied: toml in c:\\programdata\\anaconda3\\lib\\site-packages (from pytest->xbbg) (0.10.2)\n",
      "Requirement already satisfied: atomicwrites>=1.0 in c:\\programdata\\anaconda3\\lib\\site-packages (from pytest->xbbg) (1.4.0)\n",
      "Requirement already satisfied: colorama in c:\\programdata\\anaconda3\\lib\\site-packages (from pytest->xbbg) (0.4.4)\n",
      "Requirement already satisfied: pyparsing>=2.0.2 in c:\\programdata\\anaconda3\\lib\\site-packages (from packaging->pytest->xbbg) (3.0.4)\n",
      "Installing collected packages: pyarrow, xbbg\n",
      "Successfully installed pyarrow-15.0.0 xbbg-0.7.7\n",
      "Requirement already satisfied: pyarrow in c:\\programdata\\anaconda3\\lib\\site-packages (15.0.0)\n",
      "Requirement already satisfied: numpy<2,>=1.16.6 in c:\\programdata\\anaconda3\\lib\\site-packages (from pyarrow) (1.20.3)\n"
     ]
    }
   ],
   "source": [
    "# !pip install --index-url=https://bcms.bloomberg.com/pip/simple blpapi\n",
    "# !pip install ruamel.yaml\n",
    "# !pip install xbbg\n",
    "# !pip install pyarrow\n",
    "# from xbbg import blp"
   ]
  },
  {
   "cell_type": "code",
   "execution_count": 20,
   "id": "dd65f90d",
   "metadata": {},
   "outputs": [
    {
     "data": {
      "text/plain": [
       "True"
      ]
     },
     "execution_count": 20,
     "metadata": {},
     "output_type": "execute_result"
    }
   ],
   "source": [
    "import blpapi\n",
    "from xbbg import blp\n",
    "\n",
    "options = blpapi.SessionOptions()\n",
    "options.setServerHost('localhost')\n",
    "options.setServerPort(8194)\n",
    "session = blpapi.Session(options)\n",
    "session.start()"
   ]
  },
  {
   "cell_type": "code",
   "execution_count": 23,
   "id": "d73a56ce",
   "metadata": {},
   "outputs": [],
   "source": [
    "current_dir = os.getcwd()\n",
    "data_dir = os.path.join(current_dir,\"data\")\n",
    "\n",
    "_cusip_list = pd.read_csv(\"cusip_note_list.csv\")\n",
    "cusip_list = _cusip_list['cusip']"
   ]
  },
  {
   "cell_type": "code",
   "execution_count": null,
   "id": "0b44e496",
   "metadata": {},
   "outputs": [
    {
     "name": "stdout",
     "output_type": "stream",
     "text": [
      "0.0   Completed ( 0 ) size is  4512\n",
      "current run time is  12.99  seconds\n",
      "0.09   Completed ( 50 ) size is  4908\n",
      "current run time is  43.65  seconds\n",
      "0.19   Completed ( 100 ) size is  4615\n",
      "current run time is  73.81  seconds\n",
      "0.28   Completed ( 150 ) size is  4967\n",
      "current run time is  104.11  seconds\n",
      "0.38   Completed ( 200 ) size is  1985\n",
      "current run time is  133.21  seconds\n",
      "0.47   Completed ( 250 ) size is  1859\n",
      "current run time is  152.75  seconds\n",
      "0.57   Completed ( 300 ) size is  3376\n",
      "current run time is  183.26  seconds\n",
      "0.66   Completed ( 350 ) size is  4317\n",
      "current run time is  212.07  seconds\n",
      "0.75   Completed ( 400 ) size is  3254\n",
      "current run time is  235.56  seconds\n",
      "0.85   Completed ( 450 ) size is  3223\n",
      "current run time is  263.17  seconds\n",
      "0.94   Completed ( 500 ) size is  4305\n",
      "current run time is  287.33  seconds\n",
      "1.04   Completed ( 550 ) size is  3612\n",
      "current run time is  318.3  seconds\n"
     ]
    }
   ],
   "source": [
    "# _log_csv = pd.read_csv(os.path.join(current_dir, \"log.csv\"), index_col=False)\n",
    "\n",
    "start = time.time()\n",
    "k=0\n",
    "num_ticker = 50\n",
    "for i in range(int(len(cusip_list)/num_ticker)+1):\n",
    "    _log_csv = pd.read_csv(os.path.join(current_dir, \"log.csv\"), index_col=False)\n",
    "    target_list = cusip_list[(num_ticker*i) : (num_ticker*i)+num_ticker]\n",
    "    \n",
    "    data = blp.bdh(tickers= target_list, \n",
    "                   flds=['PX_CLEAN_MID', 'YLD_YTM_MID'],start_date='2003-01-01', end_date='2023-12-31')\n",
    "    \n",
    "    data.to_csv(os.path.join(data_dir,f\"{i}.csv\"))\n",
    "    _log_csv.loc[len(_log_csv)] = {\"completed\" : target_list, \"len\": len(data)}\n",
    "    \n",
    "    print(round(100*i*num_ticker/53000,2), \"  Completed (\",i*num_ticker,\") size is \" , len(data))\n",
    "    \n",
    "    end = time.time()\n",
    "    print(\"current run time is \", round((end-start),2), \" seconds\")\n",
    "    \n",
    "    mid = end\n",
    "    _log_csv.to_csv(os.path.join(current_dir, \"log.csv\"), index=False)\n",
    "    time.sleep(17)\n",
    "\n",
    "print(\"logging for completed\")"
   ]
  }
 ],
 "metadata": {
  "kernelspec": {
   "display_name": "Python 3 (ipykernel)",
   "language": "python",
   "name": "python3"
  },
  "language_info": {
   "codemirror_mode": {
    "name": "ipython",
    "version": 3
   },
   "file_extension": ".py",
   "mimetype": "text/x-python",
   "name": "python",
   "nbconvert_exporter": "python",
   "pygments_lexer": "ipython3",
   "version": "3.9.7"
  }
 },
 "nbformat": 4,
 "nbformat_minor": 5
}
